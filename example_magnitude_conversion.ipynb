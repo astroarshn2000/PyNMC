{
 "cells": [
  {
   "cell_type": "markdown",
   "metadata": {},
   "source": [
    "# Example NIRCam magnitudes Notebook.\n",
    "Requires Jarron's pynrc tool:\n",
    "https://pynrc.readthedocs.io/en/latest/"
   ]
  },
  {
   "cell_type": "markdown",
   "metadata": {},
   "source": [
    "## Set Environment Variables"
   ]
  },
  {
   "cell_type": "code",
   "execution_count": 2,
   "metadata": {},
   "outputs": [],
   "source": [
    "import os\n",
    "os.environ[\"PYNRC_PATH\"] = \"/Users/astroarshn2000/JWST_Programs/pynrc_reference_files/pynrc_data/\"\n",
    "os.environ[\"PYSYN_CDBS\"] = \"/Users/astroarshn2000/JWST_Programs/stsynphot_reference_files/grp/hst/cdbs/\""
   ]
  },
  {
   "cell_type": "markdown",
   "metadata": {},
   "source": [
    "## Import Libraries"
   ]
  },
  {
   "cell_type": "code",
   "execution_count": 3,
   "metadata": {},
   "outputs": [
    {
     "name": "stderr",
     "output_type": "stream",
     "text": [
      "\n",
      " ***********  ERROR  ******  ERROR  ******  ERROR  ******  ERROR  ***********\n",
      " *                                                                          *\n",
      " *  WebbPSF requires several data files to operate.                         *\n",
      " *  These files could not be located automatically at this time, or this    *\n",
      " *  version of the software requires a newer set of reference files than    *\n",
      " *  you have installed.  For more details see:                              *\n",
      " *                                                                          *\n",
      " *        https://webbpsf.readthedocs.io/en/stable/installation.html        *\n",
      " *                                                                          *\n",
      " *  under \"Installing the Required Data Files\".                             *\n",
      " *  WebbPSF will not be able to function properly until the appropriate     *\n",
      " *  reference files have been downloaded to your machine and installed.     *\n",
      " *                                                                          *\n",
      " ****************************************************************************\n"
     ]
    },
    {
     "ename": "OSError",
     "evalue": "Environment variable $WEBBPSF_PATH is not set!",
     "output_type": "error",
     "traceback": [
      "\u001b[0;31m---------------------------------------------------------------------------\u001b[0m",
      "\u001b[0;31mOSError\u001b[0m                                   Traceback (most recent call last)",
      "\u001b[0;32m<ipython-input-3-82b5f10ac9d5>\u001b[0m in \u001b[0;36m<module>\u001b[0;34m\u001b[0m\n\u001b[1;32m      1\u001b[0m \u001b[0;32mimport\u001b[0m \u001b[0mpysynphot\u001b[0m \u001b[0;32mas\u001b[0m \u001b[0mS\u001b[0m\u001b[0;34m\u001b[0m\u001b[0;34m\u001b[0m\u001b[0m\n\u001b[0;32m----> 2\u001b[0;31m \u001b[0;32mimport\u001b[0m \u001b[0mpynrc\u001b[0m\u001b[0;34m\u001b[0m\u001b[0;34m\u001b[0m\u001b[0m\n\u001b[0m",
      "\u001b[0;32m~/anaconda3/envs/astro/lib/python3.6/site-packages/pynrc/__init__.py\u001b[0m in \u001b[0;36m<module>\u001b[0;34m\u001b[0m\n\u001b[1;32m     72\u001b[0m \u001b[0msetup_logging\u001b[0m\u001b[0;34m(\u001b[0m\u001b[0mconf\u001b[0m\u001b[0;34m.\u001b[0m\u001b[0mdefault_logging_level\u001b[0m\u001b[0;34m,\u001b[0m \u001b[0mverbose\u001b[0m\u001b[0;34m=\u001b[0m\u001b[0;32mFalse\u001b[0m\u001b[0;34m)\u001b[0m\u001b[0;34m\u001b[0m\u001b[0;34m\u001b[0m\u001b[0m\n\u001b[1;32m     73\u001b[0m \u001b[0;34m\u001b[0m\u001b[0m\n\u001b[0;32m---> 74\u001b[0;31m from .nrc_utils import (read_filter, pix_noise, bp_2mass, bp_wise, \\\n\u001b[0m\u001b[1;32m     75\u001b[0m                         stellar_spectrum, source_spectrum, planets_sb12)\n\u001b[1;32m     76\u001b[0m \u001b[0;34m\u001b[0m\u001b[0m\n",
      "\u001b[0;32m~/anaconda3/envs/astro/lib/python3.6/site-packages/pynrc/nrc_utils.py\u001b[0m in \u001b[0;36m<module>\u001b[0;34m\u001b[0m\n\u001b[1;32m     73\u001b[0m \u001b[0;32mif\u001b[0m \u001b[0;32mnot\u001b[0m \u001b[0mon_rtd\u001b[0m\u001b[0;34m:\u001b[0m\u001b[0;34m\u001b[0m\u001b[0;34m\u001b[0m\u001b[0m\n\u001b[1;32m     74\u001b[0m     \u001b[0m_webbpsf_version_min\u001b[0m \u001b[0;34m=\u001b[0m \u001b[0;34m(\u001b[0m\u001b[0;36m0\u001b[0m\u001b[0;34m,\u001b[0m\u001b[0;36m9\u001b[0m\u001b[0;34m,\u001b[0m\u001b[0;36m0\u001b[0m\u001b[0;34m)\u001b[0m\u001b[0;34m\u001b[0m\u001b[0;34m\u001b[0m\u001b[0m\n\u001b[0;32m---> 75\u001b[0;31m     \u001b[0m_\u001b[0m \u001b[0;34m=\u001b[0m \u001b[0mwebbpsf\u001b[0m\u001b[0;34m.\u001b[0m\u001b[0mutils\u001b[0m\u001b[0;34m.\u001b[0m\u001b[0mget_webbpsf_data_path\u001b[0m\u001b[0;34m(\u001b[0m\u001b[0m_webbpsf_version_min\u001b[0m\u001b[0;34m)\u001b[0m\u001b[0;34m\u001b[0m\u001b[0;34m\u001b[0m\u001b[0m\n\u001b[0m\u001b[1;32m     76\u001b[0m \u001b[0;34m\u001b[0m\u001b[0m\n\u001b[1;32m     77\u001b[0m \u001b[0;31m# Link to WebbPSF's instance of poppy\u001b[0m\u001b[0;34m\u001b[0m\u001b[0;34m\u001b[0m\u001b[0;34m\u001b[0m\u001b[0m\n",
      "\u001b[0;32m~/anaconda3/envs/astro/lib/python3.6/site-packages/webbpsf-0.9.0-py3.6.egg/webbpsf/utils.py\u001b[0m in \u001b[0;36mget_webbpsf_data_path\u001b[0;34m(data_version_min, return_version)\u001b[0m\n\u001b[1;32m    203\u001b[0m         \u001b[0;32mif\u001b[0m \u001b[0mpath\u001b[0m \u001b[0;32mis\u001b[0m \u001b[0;32mNone\u001b[0m\u001b[0;34m:\u001b[0m\u001b[0;34m\u001b[0m\u001b[0;34m\u001b[0m\u001b[0m\n\u001b[1;32m    204\u001b[0m             \u001b[0msys\u001b[0m\u001b[0;34m.\u001b[0m\u001b[0mstderr\u001b[0m\u001b[0;34m.\u001b[0m\u001b[0mwrite\u001b[0m\u001b[0;34m(\u001b[0m\u001b[0mMISSING_WEBBPSF_DATA_MESSAGE\u001b[0m\u001b[0;34m)\u001b[0m\u001b[0;34m\u001b[0m\u001b[0;34m\u001b[0m\u001b[0m\n\u001b[0;32m--> 205\u001b[0;31m             \u001b[0;32mraise\u001b[0m \u001b[0mEnvironmentError\u001b[0m\u001b[0;34m(\u001b[0m\u001b[0;34m\"Environment variable $WEBBPSF_PATH is not set!\"\u001b[0m\u001b[0;34m)\u001b[0m\u001b[0;34m\u001b[0m\u001b[0;34m\u001b[0m\u001b[0m\n\u001b[0m\u001b[1;32m    206\u001b[0m     \u001b[0;32melse\u001b[0m\u001b[0;34m:\u001b[0m\u001b[0;34m\u001b[0m\u001b[0;34m\u001b[0m\u001b[0m\n\u001b[1;32m    207\u001b[0m         \u001b[0mpath\u001b[0m \u001b[0;34m=\u001b[0m \u001b[0mpath_from_config\u001b[0m\u001b[0;34m\u001b[0m\u001b[0;34m\u001b[0m\u001b[0m\n",
      "\u001b[0;31mOSError\u001b[0m: Environment variable $WEBBPSF_PATH is not set!"
     ]
    }
   ],
   "source": [
    "import pysynphot as S\n",
    "import pynrc"
   ]
  },
  {
   "cell_type": "markdown",
   "metadata": {},
   "source": [
    "## Get the Filter\n",
    "This is the Johnson Filter. It is a K-band filter close enough to the 2MASS filter system for these purposes (not exact though)\n"
   ]
  },
  {
   "cell_type": "code",
   "execution_count": 19,
   "metadata": {},
   "outputs": [
    {
     "name": "stdout",
     "output_type": "stream",
     "text": [
      "/Users/astroarshn2000/JWST_Programs/stsynphot_reference_files/grp/hst/cdbs/comp/nonhst/johnson_k_003_syn.fits\n"
     ]
    }
   ],
   "source": [
    "bp_K = S.ObsBandpass('johnson,k')\n",
    "print(bp_K)"
   ]
  },
  {
   "cell_type": "markdown",
   "metadata": {},
   "source": [
    "## Create a Star with a given magnitude, Spectral Type\n",
    "Use the example here:\n",
    "https://pynrc.readthedocs.io/en/latest/api/spectral_tools.html#pynrc.nrc_utils.stellar_spectrum\n",
    "\n",
    "The 2MASS filter system reports Vega Magnitudes"
   ]
  },
  {
   "cell_type": "code",
   "execution_count": 31,
   "metadata": {},
   "outputs": [
    {
     "name": "stdout",
     "output_type": "stream",
     "text": [
      "F9V * 2.97819e-19\n"
     ]
    }
   ],
   "source": [
    "bg = pynrc.nrc_utils.stellar_spectrum('F9V',6.3,'vegamag',bp_K)\n",
    "print(bg)"
   ]
  },
  {
   "cell_type": "markdown",
   "metadata": {},
   "source": [
    "## Calculate the star's magnitude in a NIRCam Filter"
   ]
  },
  {
   "cell_type": "code",
   "execution_count": 1,
   "metadata": {},
   "outputs": [
    {
     "ename": "NameError",
     "evalue": "name 'pynrc' is not defined",
     "output_type": "error",
     "traceback": [
      "\u001b[0;31m---------------------------------------------------------------------------\u001b[0m",
      "\u001b[0;31mNameError\u001b[0m                                 Traceback (most recent call last)",
      "\u001b[0;32m<ipython-input-1-dc2495d65db2>\u001b[0m in \u001b[0;36m<module>\u001b[0;34m\u001b[0m\n\u001b[0;32m----> 1\u001b[0;31m \u001b[0mbp_ncfilter\u001b[0m \u001b[0;34m=\u001b[0m \u001b[0mpynrc\u001b[0m\u001b[0;34m.\u001b[0m\u001b[0mnrc_utils\u001b[0m\u001b[0;34m.\u001b[0m\u001b[0mread_filter\u001b[0m\u001b[0;34m(\u001b[0m\u001b[0;34m'F182M'\u001b[0m\u001b[0;34m)\u001b[0m \u001b[0;31m## get a filter from pynrc\u001b[0m\u001b[0;34m\u001b[0m\u001b[0;34m\u001b[0m\u001b[0m\n\u001b[0m\u001b[1;32m      2\u001b[0m \u001b[0mobs\u001b[0m \u001b[0;34m=\u001b[0m \u001b[0mS\u001b[0m\u001b[0;34m.\u001b[0m\u001b[0mObservation\u001b[0m\u001b[0;34m(\u001b[0m\u001b[0mbg\u001b[0m\u001b[0;34m,\u001b[0m\u001b[0mbp_ncfilter\u001b[0m\u001b[0;34m,\u001b[0m\u001b[0mbinset\u001b[0m\u001b[0;34m=\u001b[0m\u001b[0mbg\u001b[0m\u001b[0;34m.\u001b[0m\u001b[0mwave\u001b[0m\u001b[0;34m)\u001b[0m \u001b[0;31m## make an observation object\u001b[0m\u001b[0;34m\u001b[0m\u001b[0;34m\u001b[0m\u001b[0m\n\u001b[1;32m      3\u001b[0m \u001b[0mobs\u001b[0m\u001b[0;34m.\u001b[0m\u001b[0meffstim\u001b[0m\u001b[0;34m(\u001b[0m\u001b[0;34m'vegamag'\u001b[0m\u001b[0;34m)\u001b[0m \u001b[0;31m## find the magnitude in the Vega system\u001b[0m\u001b[0;34m\u001b[0m\u001b[0;34m\u001b[0m\u001b[0m\n",
      "\u001b[0;31mNameError\u001b[0m: name 'pynrc' is not defined"
     ]
    }
   ],
   "source": [
    "bp_ncfilter = pynrc.nrc_utils.read_filter('F182M') ## get a filter from pynrc\n",
    "obs = S.Observation(bg,bp_ncfilter,binset=bg.wave) ## make an observation object\n",
    "obs.effstim('vegamag') ## find the magnitude in the Vega system"
   ]
  },
  {
   "cell_type": "markdown",
   "metadata": {},
   "source": [
    "Above wavelengths of 2 $\\mu$m, stars look pretty similar because this is the Raleigh Jeans Limit, so they should be pretty close to 6.3"
   ]
  },
  {
   "cell_type": "code",
   "execution_count": null,
   "metadata": {},
   "outputs": [],
   "source": []
  }
 ],
 "metadata": {
  "kernelspec": {
   "display_name": "astro",
   "language": "python",
   "name": "astro"
  },
  "language_info": {
   "codemirror_mode": {
    "name": "ipython",
    "version": 3
   },
   "file_extension": ".py",
   "mimetype": "text/x-python",
   "name": "python",
   "nbconvert_exporter": "python",
   "pygments_lexer": "ipython3",
   "version": "3.6.10"
  }
 },
 "nbformat": 4,
 "nbformat_minor": 4
}
